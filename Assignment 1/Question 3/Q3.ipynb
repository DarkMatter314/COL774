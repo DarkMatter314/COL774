{
 "cells": [
  {
   "cell_type": "code",
   "execution_count": 9,
   "metadata": {},
   "outputs": [],
   "source": [
    "import numpy as np\n",
    "import pandas as pd\n",
    "import matplotlib.pyplot as plt\n",
    "from mpl_toolkits.mplot3d import Axes3D"
   ]
  },
  {
   "cell_type": "code",
   "execution_count": 10,
   "metadata": {},
   "outputs": [],
   "source": [
    "logisticX = pd.read_csv('../data/q3/logisticX.csv', header=None).to_numpy()\n",
    "logisticY = pd.read_csv('../data/q3/logisticY.csv', header=None).to_numpy()"
   ]
  },
  {
   "cell_type": "code",
   "execution_count": 11,
   "metadata": {},
   "outputs": [],
   "source": [
    "def normalize(X):\n",
    "    mean = np.mean(X, axis=0)\n",
    "    stdev = np.std(X, axis=0)\n",
    "    X = (X-mean)/stdev\n",
    "    return (X, mean, stdev)"
   ]
  },
  {
   "cell_type": "code",
   "execution_count": 12,
   "metadata": {},
   "outputs": [],
   "source": [
    "(normX, meanX, stdevX) = normalize(logisticX)\n",
    "Y = logisticY\n",
    "X = np.hstack((np.ones((normX.shape[0], 1)), normX))"
   ]
  },
  {
   "cell_type": "code",
   "execution_count": 15,
   "metadata": {},
   "outputs": [],
   "source": [
    "def signmoid(X, theta):\n",
    "    return 1/(1+np.exp(-np.dot(X, theta)))"
   ]
  },
  {
   "cell_type": "code",
   "execution_count": 20,
   "metadata": {},
   "outputs": [],
   "source": [
    "def newton(X, theta, Y, max_iterations):\n",
    "    theta_hist = []\n",
    "    for i in range(max_iterations):\n",
    "        theta_hist.append(np.array(theta))\n",
    "        h = signmoid(X, theta)\n",
    "        D = np.diag((h*(1-h)))\n",
    "        H = X.T @ D @ X\n",
    "        print(H)\n",
    "        h_mat = np.array([h]).T\n",
    "        H_inv = np.linalg.inv(H)\n",
    "        grad = X.T@(h_mat - Y)\n",
    "        theta = theta - (H_inv@grad).reshape(theta.shape)\n",
    "    return (theta, theta_hist)"
   ]
  },
  {
   "cell_type": "code",
   "execution_count": 21,
   "metadata": {},
   "outputs": [
    {
     "name": "stdout",
     "output_type": "stream",
     "text": [
      "[[ 2.50000000e+01 -2.88657986e-15  1.66533454e-15]\n",
      " [-2.88657986e-15  2.50000000e+01 -1.23957811e+01]\n",
      " [ 1.66533454e-15 -1.23957811e+01  2.50000000e+01]]\n",
      "[[16.67015307 -0.63692543  0.68514297]\n",
      " [-0.63692543 11.56496155 -3.01113727]\n",
      " [ 0.68514297 -3.01113727 11.47318617]]\n",
      "[[11.29505368 -0.96940762  0.85973513]\n",
      " [-0.96940762  6.01483528 -0.05014815]\n",
      " [ 0.85973513 -0.05014815  5.63497973]]\n",
      "[[ 8.46760424 -1.13703868  0.86211377]\n",
      " [-1.13703868  3.86622949  0.7118158 ]\n",
      " [ 0.86211377  0.7118158   3.42761171]]\n",
      "[[ 7.28660058 -1.1948712   0.8472037 ]\n",
      " [-1.1948712   3.10776118  0.89744865]\n",
      " [ 0.8472037   0.89744865  2.69843806]]\n",
      "[[ 6.99158812 -1.20588864  0.8460042 ]\n",
      " [-1.20588864  2.92894387  0.93296816]\n",
      " [ 0.8460042   0.93296816  2.53831995]]\n",
      "[[ 6.97036051 -1.20668975  0.84627142]\n",
      " [-1.20668975  2.91604819  0.93537903]\n",
      " [ 0.84627142  0.93537903  2.52729308]]\n",
      "[[ 6.97024698 -1.20669461  0.84627423]\n",
      " [-1.20669461  2.9159784   0.93539195]\n",
      " [ 0.84627423  0.93539195  2.52723482]]\n",
      "[[ 6.97024698 -1.20669461  0.84627423]\n",
      " [-1.20669461  2.9159784   0.93539195]\n",
      " [ 0.84627423  0.93539195  2.52723482]]\n",
      "[[ 6.97024698 -1.20669461  0.84627423]\n",
      " [-1.20669461  2.9159784   0.93539195]\n",
      " [ 0.84627423  0.93539195  2.52723482]]\n"
     ]
    },
    {
     "data": {
      "text/plain": [
       "[array([0., 0., 0.]),\n",
       " array([ 1.64901696e-16,  8.97341408e-01, -9.20112283e-01]),\n",
       " array([ 0.0916248 ,  1.54658764, -1.57249997]),\n",
       " array([ 0.22925374,  2.10393545, -2.18620038]),\n",
       " array([ 0.35177461,  2.46348281, -2.59033635]),\n",
       " array([ 0.39743593,  2.57939935, -2.71602845]),\n",
       " array([ 0.40123187,  2.58849794, -2.7255376 ]),\n",
       " array([ 0.40125316,  2.5885477 , -2.72558849]),\n",
       " array([ 0.40125316,  2.5885477 , -2.72558849]),\n",
       " array([ 0.40125316,  2.5885477 , -2.72558849])]"
      ]
     },
     "execution_count": 21,
     "metadata": {},
     "output_type": "execute_result"
    }
   ],
   "source": [
    "theta = np.zeros(X.shape[1])\n",
    "(theta_new, theta_hist) = newton(X, theta, Y, 10)\n",
    "theta_hist"
   ]
  },
  {
   "cell_type": "code",
   "execution_count": 22,
   "metadata": {},
   "outputs": [
    {
     "data": {
      "text/plain": [
       "(100, 1)"
      ]
     },
     "execution_count": 22,
     "metadata": {},
     "output_type": "execute_result"
    }
   ],
   "source": [
    "Y.shape"
   ]
  },
  {
   "cell_type": "code",
   "execution_count": null,
   "metadata": {},
   "outputs": [
    {
     "data": {
      "text/plain": [
       "array([[0],\n",
       "       [0],\n",
       "       [0],\n",
       "       [0],\n",
       "       [0],\n",
       "       [0],\n",
       "       [0],\n",
       "       [0],\n",
       "       [0],\n",
       "       [0],\n",
       "       [0],\n",
       "       [0],\n",
       "       [0],\n",
       "       [0],\n",
       "       [0],\n",
       "       [0],\n",
       "       [0],\n",
       "       [0],\n",
       "       [0],\n",
       "       [0],\n",
       "       [0],\n",
       "       [0],\n",
       "       [0],\n",
       "       [0],\n",
       "       [0],\n",
       "       [0],\n",
       "       [0],\n",
       "       [0],\n",
       "       [0],\n",
       "       [0],\n",
       "       [0],\n",
       "       [0],\n",
       "       [0],\n",
       "       [0],\n",
       "       [0],\n",
       "       [0],\n",
       "       [0],\n",
       "       [0],\n",
       "       [0],\n",
       "       [0],\n",
       "       [0],\n",
       "       [0],\n",
       "       [0],\n",
       "       [0],\n",
       "       [0],\n",
       "       [0],\n",
       "       [0],\n",
       "       [0],\n",
       "       [0],\n",
       "       [0],\n",
       "       [1],\n",
       "       [1],\n",
       "       [1],\n",
       "       [1],\n",
       "       [1],\n",
       "       [1],\n",
       "       [1],\n",
       "       [1],\n",
       "       [1],\n",
       "       [1],\n",
       "       [1],\n",
       "       [1],\n",
       "       [1],\n",
       "       [1],\n",
       "       [1],\n",
       "       [1],\n",
       "       [1],\n",
       "       [1],\n",
       "       [1],\n",
       "       [1],\n",
       "       [1],\n",
       "       [1],\n",
       "       [1],\n",
       "       [1],\n",
       "       [1],\n",
       "       [1],\n",
       "       [1],\n",
       "       [1],\n",
       "       [1],\n",
       "       [1],\n",
       "       [1],\n",
       "       [1],\n",
       "       [1],\n",
       "       [1],\n",
       "       [1],\n",
       "       [1],\n",
       "       [1],\n",
       "       [1],\n",
       "       [1],\n",
       "       [1],\n",
       "       [1],\n",
       "       [1],\n",
       "       [1],\n",
       "       [1],\n",
       "       [1],\n",
       "       [1],\n",
       "       [1],\n",
       "       [1],\n",
       "       [1],\n",
       "       [1]], dtype=int64)"
      ]
     },
     "execution_count": 35,
     "metadata": {},
     "output_type": "execute_result"
    }
   ],
   "source": [
    "Y"
   ]
  },
  {
   "cell_type": "code",
   "execution_count": 23,
   "metadata": {},
   "outputs": [
    {
     "data": {
      "text/plain": [
       "array([[ 1.        ,  0.09150086, -1.34422853],\n",
       "       [ 1.        , -0.93099654, -0.73990284],\n",
       "       [ 1.        , -0.10767612, -1.10150342],\n",
       "       [ 1.        ,  0.88699564, -2.06750178],\n",
       "       [ 1.        ,  0.08816481, -1.49612096],\n",
       "       [ 1.        ,  1.38944932, -2.15235104],\n",
       "       [ 1.        ,  0.24359412,  0.48590583],\n",
       "       [ 1.        ,  0.84430945, -0.56249075],\n",
       "       [ 1.        ,  0.21432792, -0.30289672],\n",
       "       [ 1.        ,  1.14895089, -0.58829877],\n",
       "       [ 1.        , -0.57949885,  0.07240086],\n",
       "       [ 1.        ,  1.91745405,  0.35823545],\n",
       "       [ 1.        ,  0.50175841, -1.03013488],\n",
       "       [ 1.        ,  0.56324776, -1.43390778],\n",
       "       [ 1.        , -0.41671508,  0.06194789],\n",
       "       [ 1.        ,  0.6669684 ,  0.88701141],\n",
       "       [ 1.        ,  0.61472898, -0.89590437],\n",
       "       [ 1.        , -0.24900306, -1.28605236],\n",
       "       [ 1.        ,  1.12203509, -0.49624057],\n",
       "       [ 1.        ,  2.19934975, -1.41797602],\n",
       "       [ 1.        ,  1.57414483, -1.29960517],\n",
       "       [ 1.        ,  0.62026378, -0.24832502],\n",
       "       [ 1.        ,  1.09254143, -0.89597646],\n",
       "       [ 1.        ,  0.83119273, -0.35631498],\n",
       "       [ 1.        ,  0.98813842, -1.10056626],\n",
       "       [ 1.        , -0.90248853, -0.3139264 ],\n",
       "       [ 1.        , -0.02146972, -0.48931998],\n",
       "       [ 1.        ,  0.4518694 , -0.36280303],\n",
       "       [ 1.        ,  1.15061892,  0.11125706],\n",
       "       [ 1.        ,  0.94583132, -0.10645302],\n",
       "       [ 1.        ,  0.59054267, -1.85044051],\n",
       "       [ 1.        , -0.97497166,  0.58099178],\n",
       "       [ 1.        , -0.41626016, -1.63510938],\n",
       "       [ 1.        ,  1.68688794, -2.01192083],\n",
       "       [ 1.        ,  0.77281196, -0.0458979 ],\n",
       "       [ 1.        ,  0.68144986, -1.30162368],\n",
       "       [ 1.        ,  0.41153359, -2.10664634],\n",
       "       [ 1.        ,  2.87853792, -0.76859443],\n",
       "       [ 1.        ,  0.14737959,  0.59158893],\n",
       "       [ 1.        ,  0.560215  , -0.09016081],\n",
       "       [ 1.        ,  1.07669522, -0.23635817],\n",
       "       [ 1.        ,  1.67521179, -1.50909706],\n",
       "       [ 1.        ,  0.56885838, -1.31979021],\n",
       "       [ 1.        ,  1.40370332, -0.07084084],\n",
       "       [ 1.        ,  1.42531179,  0.22083299],\n",
       "       [ 1.        ,  0.86751011,  0.06721042],\n",
       "       [ 1.        , -0.33134269, -0.33533696],\n",
       "       [ 1.        ,  1.27966315, -1.47442204],\n",
       "       [ 1.        ,  0.7472609 , -0.87103351],\n",
       "       [ 1.        ,  1.84845861,  0.15263639]])"
      ]
     },
     "execution_count": 23,
     "metadata": {},
     "output_type": "execute_result"
    }
   ],
   "source": [
    "X1 = X[Y[:, 0] == 1]\n",
    "X0 = X[Y[:, 0] == 0]\n",
    "X1"
   ]
  },
  {
   "cell_type": "code",
   "execution_count": 24,
   "metadata": {},
   "outputs": [
    {
     "data": {
      "image/png": "[encoded data removed]",
      "text/plain": [
       "<Figure size 640x480 with 1 Axes>"
      ]
     },
     "metadata": {},
     "output_type": "display_data"
    }
   ],
   "source": [
    "plt.scatter(X1[:, 1], X1[:, 2], marker='s', color='blue', label='Data Points with Y=1')\n",
    "plt.scatter(X0[:, 1], X0[:, 2], marker='^', color='green', label='Data Points with Y=0')\n",
    "x_range = np.linspace(min(X[:, 1]), max(X[:, 1]), 100)\n",
    "y_pred = theta_new[0] + theta_new[1]*x_range\n",
    "plt.plot(x_range, y_pred, color='red', label='Hypothesis Function')\n",
    "plt.axhline(0, color='black', linewidth=0.5)  # Horizontal line at y=0\n",
    "plt.axvline(0, color='black', linewidth=0.5)  # Vertical line at x=0\n",
    "# Set appropriate axis limits\n",
    "x_min = min(X[:, 1])\n",
    "x_max = max(X[:, 1])\n",
    "y_min = min(Y[:, 0])\n",
    "y_max = max(Y[:, 0])\n",
    "# y_center = 1  # Center of y-axis values\n",
    "# Set x-axis and y-axis limits based on data ranges and centering of y-axis\n",
    "# plt.xlim(x_min, x_max)\n",
    "# plt.ylim(y_min, y_max)\n",
    "plt.xlabel('X1')\n",
    "plt.ylabel('X2')\n",
    "plt.title('Raw Data and Hypothesis Function')\n",
    "plt.legend()\n",
    "plt.show()"
   ]
  }
 ],
 "metadata": {
  "kernelspec": {
   "display_name": "Python 3",
   "language": "python",
   "name": "python3"
  },
  "language_info": {
   "codemirror_mode": {
    "name": "ipython",
    "version": 3
   },
   "file_extension": ".py",
   "mimetype": "text/x-python",
   "name": "python",
   "nbconvert_exporter": "python",
   "pygments_lexer": "ipython3",
   "version": "3.11.3"
  },
  "orig_nbformat": 4
 },
 "nbformat": 4,
 "nbformat_minor": 2
}
