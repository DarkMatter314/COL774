{
 "cells": [
  {
   "cell_type": "code",
   "execution_count": 1,
   "metadata": {},
   "outputs": [],
   "source": [
    "import numpy as np\n",
    "import pandas as pd\n",
    "import cvxopt\n",
    "from cvxopt import matrix, solvers\n",
    "import os\n",
    "import cv2"
   ]
  },
  {
   "cell_type": "code",
   "execution_count": 2,
   "metadata": {},
   "outputs": [],
   "source": [
    "class_3_path = './svm/train/3/'\n",
    "image_3_list = []\n",
    "for filename in os.listdir(class_3_path):\n",
    "    if filename.endswith(\".jpg\") or filename.endswith(\".png\"):\n",
    "        img = cv2.imread(os.path.join(class_3_path,filename))\n",
    "        if img is not None:\n",
    "            resized_img = cv2.resize(img, (16, 16))\n",
    "            normalized_img = resized_img / 255.0\n",
    "            flattened_img = normalized_img.flatten()\n",
    "            image_3_list.append(flattened_img)\n",
    "\n",
    "class_4_path = './svm/train/4/'\n",
    "image_4_list = []\n",
    "for filename in os.listdir(class_4_path):\n",
    "    if filename.endswith(\".jpg\") or filename.endswith(\".png\"):\n",
    "        img = cv2.imread(os.path.join(class_4_path,filename))\n",
    "        if img is not None:\n",
    "            resized_img = cv2.resize(img, (16, 16))\n",
    "            normalized_img = resized_img / 255.0\n",
    "            flattened_img = normalized_img.flatten()\n",
    "            image_4_list.append(flattened_img)"
   ]
  },
  {
   "cell_type": "code",
   "execution_count": 3,
   "metadata": {},
   "outputs": [
    {
     "data": {
      "text/plain": [
       "(4760, 768)"
      ]
     },
     "execution_count": 3,
     "metadata": {},
     "output_type": "execute_result"
    }
   ],
   "source": [
    "m = len(image_3_list) + len(image_4_list)\n",
    "n = image_4_list[0].shape[0]\n",
    "m, n"
   ]
  },
  {
   "cell_type": "code",
   "execution_count": 4,
   "metadata": {},
   "outputs": [],
   "source": [
    "X = np.array(image_3_list + image_4_list)\n",
    "Y = np.array([-1] * len(image_3_list) + [1] * len(image_4_list))"
   ]
  },
  {
   "cell_type": "code",
   "execution_count": 5,
   "metadata": {},
   "outputs": [],
   "source": [
    "XY = Y.reshape(-1, 1) * X\n",
    "H = np.dot(XY, XY.T)"
   ]
  },
  {
   "cell_type": "code",
   "execution_count": 6,
   "metadata": {},
   "outputs": [],
   "source": [
    "P = matrix(H, tc='d')\n",
    "q = matrix(-np.ones((m, 1)), tc='d')\n",
    "G = matrix(np.vstack((np.eye(m)*-1,np.eye(m))), tc='d')\n",
    "h = matrix(np.hstack((np.zeros(m), np.ones(m) * 1)), tc='d')\n",
    "A = matrix(Y.reshape(1, -1), tc='d')\n",
    "b = matrix(np.zeros(1), tc='d')"
   ]
  },
  {
   "cell_type": "code",
   "execution_count": 7,
   "metadata": {},
   "outputs": [
    {
     "data": {
      "text/plain": [
       "(1, 4760)"
      ]
     },
     "execution_count": 7,
     "metadata": {},
     "output_type": "execute_result"
    }
   ],
   "source": [
    "Y.reshape(1, -1).shape"
   ]
  },
  {
   "cell_type": "code",
   "execution_count": 8,
   "metadata": {},
   "outputs": [
    {
     "name": "stdout",
     "output_type": "stream",
     "text": [
      "     pcost       dcost       gap    pres   dres\n",
      " 0: -3.0947e+03 -1.5822e+04  9e+04  4e+00  7e-11\n",
      " 1: -2.1190e+03 -1.2160e+04  2e+04  6e-01  8e-11\n",
      " 2: -1.9827e+03 -4.6356e+03  3e+03  2e-12  6e-11\n",
      " 3: -2.3230e+03 -3.0834e+03  8e+02  6e-13  6e-11\n",
      " 4: -2.4476e+03 -2.8586e+03  4e+02  1e-12  7e-11\n",
      " 5: -2.5326e+03 -2.6990e+03  2e+02  8e-13  7e-11\n",
      " 6: -2.5658e+03 -2.6400e+03  7e+01  3e-12  7e-11\n",
      " 7: -2.5830e+03 -2.6112e+03  3e+01  4e-12  7e-11\n",
      " 8: -2.5903e+03 -2.5992e+03  9e+00  3e-12  7e-11\n",
      " 9: -2.5932e+03 -2.5949e+03  2e+00  2e-12  8e-11\n",
      "10: -2.5938e+03 -2.5941e+03  4e-01  8e-13  8e-11\n",
      "11: -2.5939e+03 -2.5940e+03  4e-02  4e-13  8e-11\n",
      "12: -2.5939e+03 -2.5939e+03  2e-03  2e-12  8e-11\n",
      "Optimal solution found.\n"
     ]
    }
   ],
   "source": [
    "sol = solvers.qp(P, q, G, h, A, b)"
   ]
  },
  {
   "cell_type": "code",
   "execution_count": 9,
   "metadata": {},
   "outputs": [],
   "source": [
    "solution = np.array(sol['x'])"
   ]
  },
  {
   "cell_type": "code",
   "execution_count": 10,
   "metadata": {},
   "outputs": [],
   "source": [
    "w = np.sum(solution * Y.reshape(-1, 1) * X, axis=0)\n",
    "b = np.sum(solution * Y.reshape(-1, 1) * X @ X[0, :].reshape(-1, 1)) - Y[0]"
   ]
  },
  {
   "cell_type": "code",
   "execution_count": 11,
   "metadata": {},
   "outputs": [],
   "source": [
    "def predict(x, w, b):\n",
    "    val = w.T @ x + b\n",
    "    return 1 if val >= 0 else -1"
   ]
  },
  {
   "cell_type": "code",
   "execution_count": null,
   "metadata": {},
   "outputs": [
    {
     "name": "stdout",
     "output_type": "stream",
     "text": [
      "Correct: 3626\n",
      "Incorrect: 1134\n",
      "Accuracy: 0.7617647058823529\n"
     ]
    }
   ],
   "source": [
    "incorrect = 0\n",
    "for img in image_3_list:\n",
    "    prediction = predict(img, w, b)\n",
    "    if(prediction != -1):\n",
    "        incorrect += 1\n",
    "for img in image_4_list:\n",
    "    prediction = predict(img, w, b)\n",
    "    if(prediction != 1):\n",
    "        incorrect += 1\n",
    "print(f\"Correct: {m - incorrect}\\nIncorrect: {incorrect}\\nAccuracy: {(m - incorrect) / m}\")"
   ]
  },
  {
   "cell_type": "code",
   "execution_count": 13,
   "metadata": {},
   "outputs": [],
   "source": [
    "validation_3_path = './svm/val/3/'\n",
    "validation_image_3_list = []\n",
    "for filename in os.listdir(validation_3_path):\n",
    "    if filename.endswith(\".jpg\") or filename.endswith(\".png\"):\n",
    "        img = cv2.imread(os.path.join(validation_3_path,filename))\n",
    "        if img is not None:\n",
    "            resized_img = cv2.resize(img, (16, 16))\n",
    "            normalized_img = resized_img / 255.0\n",
    "            flattened_img = normalized_img.flatten()\n",
    "            validation_image_3_list.append(flattened_img)\n",
    "validation_4_path = './svm/val/4/'\n",
    "validation_image_4_list = []\n",
    "for filename in os.listdir(validation_4_path):\n",
    "    if filename.endswith(\".jpg\") or filename.endswith(\".png\"):\n",
    "        img = cv2.imread(os.path.join(validation_4_path,filename))\n",
    "        if img is not None:\n",
    "            resized_img = cv2.resize(img, (16, 16))\n",
    "            normalized_img = resized_img / 255.0\n",
    "            flattened_img = normalized_img.flatten()\n",
    "            validation_image_4_list.append(flattened_img)"
   ]
  },
  {
   "cell_type": "code",
   "execution_count": 14,
   "metadata": {},
   "outputs": [
    {
     "ename": "NameError",
     "evalue": "name 'validation_image_3_list' is not defined",
     "output_type": "error",
     "traceback": [
      "\u001b[1;31m---------------------------------------------------------------------------\u001b[0m",
      "\u001b[1;31mNameError\u001b[0m                                 Traceback (most recent call last)",
      "\u001b[1;32mc:\\IIT Delhi\\Sem 5\\1. COL774\\Assignment 2\\Question 2_binary_a.ipynb Cell 14\u001b[0m line \u001b[0;36m3\n\u001b[0;32m      <a href='vscode-notebook-cell:/c%3A/IIT%20Delhi/Sem%205/1.%20COL774/Assignment%202/Question%202_binary_a.ipynb#X16sZmlsZQ%3D%3D?line=0'>1</a>\u001b[0m correct \u001b[39m=\u001b[39m \u001b[39m0\u001b[39m\n\u001b[0;32m      <a href='vscode-notebook-cell:/c%3A/IIT%20Delhi/Sem%205/1.%20COL774/Assignment%202/Question%202_binary_a.ipynb#X16sZmlsZQ%3D%3D?line=1'>2</a>\u001b[0m incorrect \u001b[39m=\u001b[39m \u001b[39m0\u001b[39m\n\u001b[1;32m----> <a href='vscode-notebook-cell:/c%3A/IIT%20Delhi/Sem%205/1.%20COL774/Assignment%202/Question%202_binary_a.ipynb#X16sZmlsZQ%3D%3D?line=2'>3</a>\u001b[0m \u001b[39mfor\u001b[39;00m img \u001b[39min\u001b[39;00m validation_image_3_list:\n\u001b[0;32m      <a href='vscode-notebook-cell:/c%3A/IIT%20Delhi/Sem%205/1.%20COL774/Assignment%202/Question%202_binary_a.ipynb#X16sZmlsZQ%3D%3D?line=3'>4</a>\u001b[0m     prediction \u001b[39m=\u001b[39m predict(img, w, b)\n\u001b[0;32m      <a href='vscode-notebook-cell:/c%3A/IIT%20Delhi/Sem%205/1.%20COL774/Assignment%202/Question%202_binary_a.ipynb#X16sZmlsZQ%3D%3D?line=4'>5</a>\u001b[0m     \u001b[39mif\u001b[39;00m(prediction \u001b[39m==\u001b[39m \u001b[39m-\u001b[39m\u001b[39m1\u001b[39m):\n",
      "\u001b[1;31mNameError\u001b[0m: name 'validation_image_3_list' is not defined"
     ]
    }
   ],
   "source": [
    "correct = 0\n",
    "incorrect = 0\n",
    "for img in validation_image_3_list:\n",
    "    prediction = predict(img, w, b)\n",
    "    if(prediction == -1):\n",
    "        correct += 1\n",
    "    else:\n",
    "        incorrect += 1\n",
    "for img in validation_image_4_list:\n",
    "    prediction = predict(img, w, b)\n",
    "    if(prediction == 1):\n",
    "        correct += 1\n",
    "    else:\n",
    "        incorrect += 1\n",
    "print(f\"Correct: {correct} \\nIncorrect: {incorrect} \\nAccuracy: {correct / (correct + incorrect)}\")"
   ]
  },
  {
   "cell_type": "code",
   "execution_count": null,
   "metadata": {},
   "outputs": [
    {
     "data": {
      "text/plain": [
       "2950"
      ]
     },
     "execution_count": 15,
     "metadata": {},
     "output_type": "execute_result"
    }
   ],
   "source": [
    "num_sv = len(solution[solution > 1e-5])\n",
    "num_sv"
   ]
  },
  {
   "cell_type": "code",
   "execution_count": 17,
   "metadata": {},
   "outputs": [
    {
     "data": {
      "text/plain": [
       "0.6197478991596639"
      ]
     },
     "execution_count": 17,
     "metadata": {},
     "output_type": "execute_result"
    }
   ],
   "source": [
    "num_sv/len(solution)"
   ]
  },
  {
   "cell_type": "code",
   "execution_count": 19,
   "metadata": {},
   "outputs": [],
   "source": [
    "sorted_indices = np.argsort(solution, axis=0)[::-1]\n",
    "top_6 = sorted_indices[:6]"
   ]
  },
  {
   "cell_type": "code",
   "execution_count": 36,
   "metadata": {},
   "outputs": [],
   "source": [
    "top_6_support_vectors = []\n",
    "image_3_names = os.listdir(class_3_path)\n",
    "image_4_names = os.listdir(class_4_path)\n",
    "image_3_sv = []\n",
    "image_4_sv = []\n",
    "for i in top_6:\n",
    "    if i[0] < len(image_3_names):\n",
    "        top_6_support_vectors.append(image_3_names[i[0]])\n",
    "        image_3_sv.append(image_3_names[i[0]])\n",
    "    else:\n",
    "        top_6_support_vectors.append(image_4_names[i[0] - len(image_3_names)])\n",
    "        image_4_sv.append(image_4_names[i[0] - len(image_3_names)])"
   ]
  },
  {
   "cell_type": "code",
   "execution_count": 37,
   "metadata": {},
   "outputs": [
    {
     "data": {
      "text/plain": [
       "['1828.jpg', '6560.jpg', '6601.jpg', '8868.jpg', '11940.jpg', '5720.jpg']"
      ]
     },
     "execution_count": 37,
     "metadata": {},
     "output_type": "execute_result"
    }
   ],
   "source": [
    "top_6_support_vectors"
   ]
  },
  {
   "cell_type": "code",
   "execution_count": 49,
   "metadata": {},
   "outputs": [],
   "source": [
    "from PIL import Image\n",
    "output_dir = './part_a_sv/'\n",
    "i = 0\n",
    "for img_name in image_3_sv:\n",
    "    img = cv2.imread(os.path.join(class_3_path, img_name))\n",
    "    if img is not None:\n",
    "        resized_img = cv2.resize(img, (16, 16))\n",
    "        pillow_image_resized = Image.fromarray(np.uint8(resized_img))\n",
    "        pillow_image_original = Image.fromarray(np.uint8(img))\n",
    "        filename_resized = f\"image_{i}_sv_resized.jpg\"\n",
    "        filename_original = f\"image_{i}_sv_original.jpg\"\n",
    "        pillow_image_resized.save(os.path.join(output_dir, filename_resized))\n",
    "        pillow_image_original.save(os.path.join(output_dir, filename_original))\n",
    "    i += 1\n",
    "for img_name in image_4_sv:\n",
    "    img = cv2.imread(os.path.join(class_4_path, img_name))\n",
    "    if img is not None:\n",
    "        resized_img = cv2.resize(img, (16, 16))\n",
    "        pillow_image_resized = Image.fromarray(np.uint8(resized_img))\n",
    "        pillow_image_original = Image.fromarray(np.uint8(img))\n",
    "        filename_resized = f\"image_{i}_sv_resized.jpg\"\n",
    "        filename_original = f\"image_{i}_sv_original.jpg\"\n",
    "        pillow_image_resized.save(os.path.join(output_dir, filename_resized))\n",
    "        pillow_image_original.save(os.path.join(output_dir, filename_original))\n",
    "    i += 1"
   ]
  },
  {
   "cell_type": "code",
   "execution_count": 56,
   "metadata": {},
   "outputs": [
    {
     "name": "stderr",
     "output_type": "stream",
     "text": [
      "C:\\Users\\Garv\\AppData\\Local\\Temp\\ipykernel_11996\\4088174303.py:12: MatplotlibDeprecationWarning: The tostring_rgb function was deprecated in Matplotlib 3.8 and will be removed two minor releases later. Use buffer_rgba instead.\n",
      "  fig.canvas.tostring_rgb())\n"
     ]
    },
    {
     "data": {
      "image/png": "[encoded data removed]",
      "text/plain": [
       "<Figure size 640x480 with 1 Axes>"
      ]
     },
     "metadata": {},
     "output_type": "display_data"
    }
   ],
   "source": [
    "import matplotlib.pyplot as plt\n",
    "w_img = w.reshape(16, 16, 3)\n",
    "min_w = np.min(w_img)\n",
    "max_w = np.max(w_img)\n",
    "cmap = 'viridis'\n",
    "normalized_w = (w_img - min_w) / (max_w - min_w)\n",
    "fig, ax = plt.subplots()\n",
    "im = ax.imshow(normalized_w, cmap=cmap)\n",
    "ax.axis('off')\n",
    "fig.canvas.draw()\n",
    "pil_image = Image.frombytes('RGB', fig.canvas.get_width_height(),\n",
    "                            fig.canvas.tostring_rgb())\n",
    "pil_image.save('output_image.jpg')"
   ]
  },
  {
   "cell_type": "code",
   "execution_count": 12,
   "metadata": {},
   "outputs": [
    {
     "data": {
      "text/html": [
       "<style>#sk-container-id-1 {color: black;}#sk-container-id-1 pre{padding: 0;}#sk-container-id-1 div.sk-toggleable {background-color: white;}#sk-container-id-1 label.sk-toggleable__label {cursor: pointer;display: block;width: 100%;margin-bottom: 0;padding: 0.3em;box-sizing: border-box;text-align: center;}#sk-container-id-1 label.sk-toggleable__label-arrow:before {content: \"▸\";float: left;margin-right: 0.25em;color: #696969;}#sk-container-id-1 label.sk-toggleable__label-arrow:hover:before {color: black;}#sk-container-id-1 div.sk-estimator:hover label.sk-toggleable__label-arrow:before {color: black;}#sk-container-id-1 div.sk-toggleable__content {max-height: 0;max-width: 0;overflow: hidden;text-align: left;background-color: #f0f8ff;}#sk-container-id-1 div.sk-toggleable__content pre {margin: 0.2em;color: black;border-radius: 0.25em;background-color: #f0f8ff;}#sk-container-id-1 input.sk-toggleable__control:checked~div.sk-toggleable__content {max-height: 200px;max-width: 100%;overflow: auto;}#sk-container-id-1 input.sk-toggleable__control:checked~label.sk-toggleable__label-arrow:before {content: \"▾\";}#sk-container-id-1 div.sk-estimator input.sk-toggleable__control:checked~label.sk-toggleable__label {background-color: #d4ebff;}#sk-container-id-1 div.sk-label input.sk-toggleable__control:checked~label.sk-toggleable__label {background-color: #d4ebff;}#sk-container-id-1 input.sk-hidden--visually {border: 0;clip: rect(1px 1px 1px 1px);clip: rect(1px, 1px, 1px, 1px);height: 1px;margin: -1px;overflow: hidden;padding: 0;position: absolute;width: 1px;}#sk-container-id-1 div.sk-estimator {font-family: monospace;background-color: #f0f8ff;border: 1px dotted black;border-radius: 0.25em;box-sizing: border-box;margin-bottom: 0.5em;}#sk-container-id-1 div.sk-estimator:hover {background-color: #d4ebff;}#sk-container-id-1 div.sk-parallel-item::after {content: \"\";width: 100%;border-bottom: 1px solid gray;flex-grow: 1;}#sk-container-id-1 div.sk-label:hover label.sk-toggleable__label {background-color: #d4ebff;}#sk-container-id-1 div.sk-serial::before {content: \"\";position: absolute;border-left: 1px solid gray;box-sizing: border-box;top: 0;bottom: 0;left: 50%;z-index: 0;}#sk-container-id-1 div.sk-serial {display: flex;flex-direction: column;align-items: center;background-color: white;padding-right: 0.2em;padding-left: 0.2em;position: relative;}#sk-container-id-1 div.sk-item {position: relative;z-index: 1;}#sk-container-id-1 div.sk-parallel {display: flex;align-items: stretch;justify-content: center;background-color: white;position: relative;}#sk-container-id-1 div.sk-item::before, #sk-container-id-1 div.sk-parallel-item::before {content: \"\";position: absolute;border-left: 1px solid gray;box-sizing: border-box;top: 0;bottom: 0;left: 50%;z-index: -1;}#sk-container-id-1 div.sk-parallel-item {display: flex;flex-direction: column;z-index: 1;position: relative;background-color: white;}#sk-container-id-1 div.sk-parallel-item:first-child::after {align-self: flex-end;width: 50%;}#sk-container-id-1 div.sk-parallel-item:last-child::after {align-self: flex-start;width: 50%;}#sk-container-id-1 div.sk-parallel-item:only-child::after {width: 0;}#sk-container-id-1 div.sk-dashed-wrapped {border: 1px dashed gray;margin: 0 0.4em 0.5em 0.4em;box-sizing: border-box;padding-bottom: 0.4em;background-color: white;}#sk-container-id-1 div.sk-label label {font-family: monospace;font-weight: bold;display: inline-block;line-height: 1.2em;}#sk-container-id-1 div.sk-label-container {text-align: center;}#sk-container-id-1 div.sk-container {/* jupyter's `normalize.less` sets `[hidden] { display: none; }` but bootstrap.min.css set `[hidden] { display: none !important; }` so we also need the `!important` here to be able to override the default hidden behavior on the sphinx rendered scikit-learn.org. See: https://github.com/scikit-learn/scikit-learn/issues/21755 */display: inline-block !important;position: relative;}#sk-container-id-1 div.sk-text-repr-fallback {display: none;}</style><div id=\"sk-container-id-1\" class=\"sk-top-container\"><div class=\"sk-text-repr-fallback\"><pre>SVC(kernel=&#x27;linear&#x27;)</pre><b>In a Jupyter environment, please rerun this cell to show the HTML representation or trust the notebook. <br />On GitHub, the HTML representation is unable to render, please try loading this page with nbviewer.org.</b></div><div class=\"sk-container\" hidden><div class=\"sk-item\"><div class=\"sk-estimator sk-toggleable\"><input class=\"sk-toggleable__control sk-hidden--visually\" id=\"sk-estimator-id-1\" type=\"checkbox\" checked><label for=\"sk-estimator-id-1\" class=\"sk-toggleable__label sk-toggleable__label-arrow\">SVC</label><div class=\"sk-toggleable__content\"><pre>SVC(kernel=&#x27;linear&#x27;)</pre></div></div></div></div></div>"
      ],
      "text/plain": [
       "SVC(kernel='linear')"
      ]
     },
     "execution_count": 12,
     "metadata": {},
     "output_type": "execute_result"
    }
   ],
   "source": [
    "import sklearn.svm as svm\n",
    "clf = svm.SVC(kernel='linear', C=1.0)\n",
    "clf.fit(X, Y)"
   ]
  },
  {
   "cell_type": "code",
   "execution_count": 13,
   "metadata": {},
   "outputs": [
    {
     "data": {
      "text/plain": [
       "0.02361133917194848"
      ]
     },
     "execution_count": 13,
     "metadata": {},
     "output_type": "execute_result"
    }
   ],
   "source": [
    "np.linalg.norm(clf.coef_ - w)"
   ]
  },
  {
   "cell_type": "code",
   "execution_count": 14,
   "metadata": {},
   "outputs": [
    {
     "data": {
      "text/plain": [
       "array([-0.55158553])"
      ]
     },
     "execution_count": 14,
     "metadata": {},
     "output_type": "execute_result"
    }
   ],
   "source": [
    "clf.intercept_ - b"
   ]
  },
  {
   "cell_type": "code",
   "execution_count": 15,
   "metadata": {},
   "outputs": [],
   "source": [
    "support_vector_indices = clf.support_\n",
    "support_vectors = clf.support_vectors_\n",
    "my_indices = []\n",
    "for i in range(len(solution)):\n",
    "    if(solution[i] > 1e-5):\n",
    "        my_indices.append(i)\n"
   ]
  },
  {
   "cell_type": "code",
   "execution_count": 16,
   "metadata": {},
   "outputs": [],
   "source": [
    "my_indices_set = set(my_indices)\n",
    "support_vector_indices_set = set(support_vector_indices)\n",
    "\n",
    "# Find the common elements (matching indices) using set intersection\n",
    "matching_indices = my_indices_set.intersection(support_vector_indices_set)\n",
    "\n",
    "# Get the count of matching indices\n",
    "num_matching_indices = len(matching_indices)"
   ]
  },
  {
   "cell_type": "code",
   "execution_count": 17,
   "metadata": {},
   "outputs": [
    {
     "data": {
      "text/plain": [
       "2904"
      ]
     },
     "execution_count": 17,
     "metadata": {},
     "output_type": "execute_result"
    }
   ],
   "source": [
    "num_matching_indices"
   ]
  }
 ],
 "metadata": {
  "kernelspec": {
   "display_name": "Python 3",
   "language": "python",
   "name": "python3"
  },
  "language_info": {
   "codemirror_mode": {
    "name": "ipython",
    "version": 3
   },
   "file_extension": ".py",
   "mimetype": "text/x-python",
   "name": "python",
   "nbconvert_exporter": "python",
   "pygments_lexer": "ipython3",
   "version": "3.11.5"
  },
  "orig_nbformat": 4
 },
 "nbformat": 4,
 "nbformat_minor": 2
}
