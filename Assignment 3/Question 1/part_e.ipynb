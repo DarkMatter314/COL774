{
 "cells": [
  {
   "cell_type": "code",
   "execution_count": 1,
   "metadata": {},
   "outputs": [],
   "source": [
    "from sklearn.tree import DecisionTreeClassifier\n",
    "import numpy as np\n",
    "import pandas as pd\n",
    "from sklearn.preprocessing import OrdinalEncoder"
   ]
  },
  {
   "cell_type": "code",
   "execution_count": 2,
   "metadata": {},
   "outputs": [],
   "source": [
    "label_encoder = None \n",
    "\n",
    "def get_np_array(file_name):\n",
    "    global label_encoder\n",
    "    data = pd.read_csv(file_name)\n",
    "    \n",
    "    need_label_encoding = ['team','host','opp','month', 'day_match']\n",
    "    if(label_encoder is None):\n",
    "        label_encoder = OrdinalEncoder()\n",
    "        label_encoder.fit(data[need_label_encoding])\n",
    "    data_1 = pd.DataFrame(label_encoder.transform(data[need_label_encoding]), columns = label_encoder.get_feature_names_out())\n",
    "    \n",
    "    #merge the two dataframes\n",
    "    dont_need_label_encoding =  [\"year\",\"toss\",\"bat_first\",\"format\" ,\"fow\",\"score\" ,\"rpo\" ,\"result\"]\n",
    "    data_2 = data[dont_need_label_encoding]\n",
    "    final_data = pd.concat([data_1, data_2], axis=1)\n",
    "    \n",
    "    X = final_data.iloc[:,:-1]\n",
    "    y = final_data.iloc[:,-1:]\n",
    "    return X.to_numpy(), y.to_numpy()"
   ]
  },
  {
   "cell_type": "code",
   "execution_count": 3,
   "metadata": {},
   "outputs": [],
   "source": [
    "X_train, y_train = get_np_array(\"train.csv\")\n",
    "X_test, y_test = get_np_array(\"test.csv\")\n",
    "X_val, y_val = get_np_array(\"val.csv\")"
   ]
  },
  {
   "cell_type": "code",
   "execution_count": 4,
   "metadata": {},
   "outputs": [
    {
     "data": {
      "text/plain": [
       "array([6.00e+00, 5.00e+00, 1.00e+00, 4.00e+00, 0.00e+00, 2.02e+03,\n",
       "       0.00e+00, 1.00e+00, 0.00e+00, 6.00e+00, 3.40e+02, 6.80e+00])"
      ]
     },
     "execution_count": 4,
     "metadata": {},
     "output_type": "execute_result"
    }
   ],
   "source": [
    "X_train[1]"
   ]
  },
  {
   "cell_type": "code",
   "execution_count": 5,
   "metadata": {},
   "outputs": [],
   "source": [
    "y_train = y_train.ravel()\n",
    "y_test = y_test.ravel()\n",
    "y_val = y_val.ravel()"
   ]
  },
  {
   "cell_type": "code",
   "execution_count": null,
   "metadata": {},
   "outputs": [],
   "source": [
    "# Varying max-depth\n",
    "depths = [15, 25, 35, 45]\n",
    "opfile = open('part_d.txt', 'w')\n",
    "for depth in depths:\n",
    "    classifier = DecisionTreeClassifier(max_depth=depth, criterion='entropy')\n",
    "    classifier.fit(X_train, y_train)\n",
    "    predicted_y_train = classifier.predict(X_train)\n",
    "    predicted_y_val = classifier.predict(X_val)\n",
    "    predicted_y_test = classifier.predict(X_test)\n",
    "    correct_train = np.count_nonzero(predicted_y_train == y_train)\n",
    "    incorrect_train = np.count_nonzero(predicted_y_train != y_train)\n",
    "    correct_test = np.count_nonzero(predicted_y_test == y_test)\n",
    "    incorrect_test = np.count_nonzero(predicted_y_test != y_test)\n",
    "    correct_val = np.count_nonzero(predicted_y_val == y_val)\n",
    "    incorrect_val = np.count_nonzero(predicted_y_val != y_val)\n",
    "    opfile.write(f\"Max depth: {depth}\\n\")\n",
    "    opfile.write(f\"Training:   Correct: {correct_train} | Incorrect = {incorrect_train} | Accuracy = {correct_train / (correct_train + incorrect_train)}\\n\")\n",
    "    opfile.write(f\"Testing:    Correct: {correct_test} | Incorrect = {incorrect_test} | Accuracy = {correct_test / (correct_test + incorrect_test)}\\n\")\n",
    "    opfile.write(f\"Validation: Correct: {correct_val} | Incorrect = {incorrect_val} | Accuracy = {correct_val / (correct_val + incorrect_val)}\\n\\n\")\n",
    "opfile.close()"
   ]
  },
  {
   "cell_type": "code",
   "execution_count": null,
   "metadata": {},
   "outputs": [],
   "source": [
    "ccp_alpha_values = [0.001, 0.01, 0.1, 0.2]\n",
    "opfile = open('part_d_ccp.txt', 'a')\n",
    "for ccp_alpha in ccp_alpha_values:\n",
    "    classifier = DecisionTreeClassifier(criterion='entropy', ccp_alpha=ccp_alpha)\n",
    "    classifier.fit(X_train, y_train)\n",
    "    predicted_y_train = classifier.predict(X_train)\n",
    "    predicted_y_val = classifier.predict(X_val)\n",
    "    predicted_y_test = classifier.predict(X_test)\n",
    "    correct_train = np.count_nonzero(predicted_y_train == y_train)\n",
    "    incorrect_train = np.count_nonzero(predicted_y_train != y_train)\n",
    "    correct_test = np.count_nonzero(predicted_y_test == y_test)\n",
    "    incorrect_test = np.count_nonzero(predicted_y_test != y_test)\n",
    "    correct_val = np.count_nonzero(predicted_y_val == y_val)\n",
    "    incorrect_val = np.count_nonzero(predicted_y_val != y_val)\n",
    "    opfile.write(f\"CCP Alpha: {ccp_alpha}\\n\")\n",
    "    opfile.write(f\"Training:   Correct: {correct_train} | Incorrect = {incorrect_train} | Accuracy = {correct_train / (correct_train + incorrect_train)}\\n\")\n",
    "    opfile.write(f\"Testing:    Correct: {correct_test} | Incorrect = {incorrect_test} | Accuracy = {correct_test / (correct_test + incorrect_test)}\\n\")\n",
    "    opfile.write(f\"Validation: Correct: {correct_val} | Incorrect = {incorrect_val} | Accuracy = {correct_val / (correct_val + incorrect_val)}\\n\\n\")\n",
    "opfile.close()"
   ]
  },
  {
   "cell_type": "code",
   "execution_count": 6,
   "metadata": {},
   "outputs": [],
   "source": [
    "import numpy as np\n",
    "from sklearn.ensemble import RandomForestClassifier\n",
    "from sklearn.model_selection import ParameterGrid\n",
    "from sklearn.metrics import accuracy_score"
   ]
  },
  {
   "cell_type": "code",
   "execution_count": 7,
   "metadata": {},
   "outputs": [],
   "source": [
    "param_grid = {\n",
    "    'n_estimators': [50, 150, 250, 350],\n",
    "    'max_features': [0.1, 0.3, 0.5, 0.7, 0.9, 1.0],\n",
    "    'min_samples_split': [2, 4, 6, 8, 10]\n",
    "}"
   ]
  },
  {
   "cell_type": "code",
   "execution_count": 8,
   "metadata": {},
   "outputs": [
    {
     "name": "stdout",
     "output_type": "stream",
     "text": [
      "0\n",
      "1\n",
      "2\n",
      "3\n",
      "4\n",
      "5\n",
      "6\n",
      "7\n",
      "8\n",
      "9\n",
      "10\n",
      "11\n",
      "12\n",
      "13\n",
      "14\n",
      "15\n",
      "16\n",
      "17\n",
      "18\n",
      "19\n",
      "20\n",
      "21\n",
      "22\n",
      "23\n",
      "24\n",
      "25\n",
      "26\n",
      "27\n",
      "28\n",
      "29\n",
      "30\n",
      "31\n",
      "32\n",
      "33\n",
      "34\n",
      "35\n",
      "36\n",
      "37\n",
      "38\n",
      "39\n",
      "40\n",
      "41\n",
      "42\n",
      "43\n",
      "44\n",
      "45\n",
      "46\n",
      "47\n",
      "48\n",
      "49\n",
      "50\n",
      "51\n",
      "52\n",
      "53\n",
      "54\n",
      "55\n",
      "56\n",
      "57\n",
      "58\n",
      "59\n",
      "60\n",
      "61\n",
      "62\n",
      "63\n",
      "64\n",
      "65\n",
      "66\n",
      "67\n",
      "68\n",
      "69\n",
      "70\n",
      "71\n",
      "72\n",
      "73\n",
      "74\n",
      "75\n",
      "76\n",
      "77\n",
      "78\n",
      "79\n",
      "80\n",
      "81\n",
      "82\n",
      "83\n",
      "84\n",
      "85\n",
      "86\n",
      "87\n",
      "88\n",
      "89\n",
      "90\n",
      "91\n",
      "92\n",
      "93\n",
      "94\n",
      "95\n",
      "96\n",
      "97\n",
      "98\n",
      "99\n",
      "100\n",
      "101\n",
      "102\n",
      "103\n",
      "104\n",
      "105\n",
      "106\n",
      "107\n",
      "108\n",
      "109\n",
      "110\n",
      "111\n",
      "112\n",
      "113\n",
      "114\n",
      "115\n",
      "116\n",
      "117\n",
      "118\n",
      "119\n"
     ]
    }
   ],
   "source": [
    "best_accuracy = 0\n",
    "best_params = None\n",
    "all_scores = open('part_d_all_rf.txt', 'w')\n",
    "i = 0\n",
    "# loop over all possible combinations of param_grid\n",
    "for g in ParameterGrid(param_grid):\n",
    "    print(i)\n",
    "    # for each combination, train a RandomForestClassifier\n",
    "    rf = RandomForestClassifier(oob_score=True, random_state=0, **g)\n",
    "    rf.fit(X_train, y_train)\n",
    "    oob_accuracy = rf.oob_score_\n",
    "    y_pred = rf.predict(X_val)\n",
    "    val_accuracy = accuracy_score(y_val, y_pred)\n",
    "    all_scores.write(f\"Parameters: {g} | OOB accuracy: {100 * oob_accuracy} | Validation Accuracy: {100 * val_accuracy}\\n\")\n",
    "    if(val_accuracy > best_accuracy):\n",
    "        best_accuracy = val_accuracy\n",
    "        best_params = g\n",
    "    i += 1\n"
   ]
  },
  {
   "cell_type": "code",
   "execution_count": 9,
   "metadata": {},
   "outputs": [],
   "source": [
    "all_scores.close()"
   ]
  },
  {
   "cell_type": "code",
   "execution_count": 10,
   "metadata": {},
   "outputs": [
    {
     "data": {
      "text/html": [
       "<style>#sk-container-id-1 {color: black;}#sk-container-id-1 pre{padding: 0;}#sk-container-id-1 div.sk-toggleable {background-color: white;}#sk-container-id-1 label.sk-toggleable__label {cursor: pointer;display: block;width: 100%;margin-bottom: 0;padding: 0.3em;box-sizing: border-box;text-align: center;}#sk-container-id-1 label.sk-toggleable__label-arrow:before {content: \"▸\";float: left;margin-right: 0.25em;color: #696969;}#sk-container-id-1 label.sk-toggleable__label-arrow:hover:before {color: black;}#sk-container-id-1 div.sk-estimator:hover label.sk-toggleable__label-arrow:before {color: black;}#sk-container-id-1 div.sk-toggleable__content {max-height: 0;max-width: 0;overflow: hidden;text-align: left;background-color: #f0f8ff;}#sk-container-id-1 div.sk-toggleable__content pre {margin: 0.2em;color: black;border-radius: 0.25em;background-color: #f0f8ff;}#sk-container-id-1 input.sk-toggleable__control:checked~div.sk-toggleable__content {max-height: 200px;max-width: 100%;overflow: auto;}#sk-container-id-1 input.sk-toggleable__control:checked~label.sk-toggleable__label-arrow:before {content: \"▾\";}#sk-container-id-1 div.sk-estimator input.sk-toggleable__control:checked~label.sk-toggleable__label {background-color: #d4ebff;}#sk-container-id-1 div.sk-label input.sk-toggleable__control:checked~label.sk-toggleable__label {background-color: #d4ebff;}#sk-container-id-1 input.sk-hidden--visually {border: 0;clip: rect(1px 1px 1px 1px);clip: rect(1px, 1px, 1px, 1px);height: 1px;margin: -1px;overflow: hidden;padding: 0;position: absolute;width: 1px;}#sk-container-id-1 div.sk-estimator {font-family: monospace;background-color: #f0f8ff;border: 1px dotted black;border-radius: 0.25em;box-sizing: border-box;margin-bottom: 0.5em;}#sk-container-id-1 div.sk-estimator:hover {background-color: #d4ebff;}#sk-container-id-1 div.sk-parallel-item::after {content: \"\";width: 100%;border-bottom: 1px solid gray;flex-grow: 1;}#sk-container-id-1 div.sk-label:hover label.sk-toggleable__label {background-color: #d4ebff;}#sk-container-id-1 div.sk-serial::before {content: \"\";position: absolute;border-left: 1px solid gray;box-sizing: border-box;top: 0;bottom: 0;left: 50%;z-index: 0;}#sk-container-id-1 div.sk-serial {display: flex;flex-direction: column;align-items: center;background-color: white;padding-right: 0.2em;padding-left: 0.2em;position: relative;}#sk-container-id-1 div.sk-item {position: relative;z-index: 1;}#sk-container-id-1 div.sk-parallel {display: flex;align-items: stretch;justify-content: center;background-color: white;position: relative;}#sk-container-id-1 div.sk-item::before, #sk-container-id-1 div.sk-parallel-item::before {content: \"\";position: absolute;border-left: 1px solid gray;box-sizing: border-box;top: 0;bottom: 0;left: 50%;z-index: -1;}#sk-container-id-1 div.sk-parallel-item {display: flex;flex-direction: column;z-index: 1;position: relative;background-color: white;}#sk-container-id-1 div.sk-parallel-item:first-child::after {align-self: flex-end;width: 50%;}#sk-container-id-1 div.sk-parallel-item:last-child::after {align-self: flex-start;width: 50%;}#sk-container-id-1 div.sk-parallel-item:only-child::after {width: 0;}#sk-container-id-1 div.sk-dashed-wrapped {border: 1px dashed gray;margin: 0 0.4em 0.5em 0.4em;box-sizing: border-box;padding-bottom: 0.4em;background-color: white;}#sk-container-id-1 div.sk-label label {font-family: monospace;font-weight: bold;display: inline-block;line-height: 1.2em;}#sk-container-id-1 div.sk-label-container {text-align: center;}#sk-container-id-1 div.sk-container {/* jupyter's `normalize.less` sets `[hidden] { display: none; }` but bootstrap.min.css set `[hidden] { display: none !important; }` so we also need the `!important` here to be able to override the default hidden behavior on the sphinx rendered scikit-learn.org. See: https://github.com/scikit-learn/scikit-learn/issues/21755 */display: inline-block !important;position: relative;}#sk-container-id-1 div.sk-text-repr-fallback {display: none;}</style><div id=\"sk-container-id-1\" class=\"sk-top-container\"><div class=\"sk-text-repr-fallback\"><pre>RandomForestClassifier(max_features=0.5, min_samples_split=10, n_estimators=250,\n",
       "                       oob_score=True, random_state=0)</pre><b>In a Jupyter environment, please rerun this cell to show the HTML representation or trust the notebook. <br />On GitHub, the HTML representation is unable to render, please try loading this page with nbviewer.org.</b></div><div class=\"sk-container\" hidden><div class=\"sk-item\"><div class=\"sk-estimator sk-toggleable\"><input class=\"sk-toggleable__control sk-hidden--visually\" id=\"sk-estimator-id-1\" type=\"checkbox\" checked><label for=\"sk-estimator-id-1\" class=\"sk-toggleable__label sk-toggleable__label-arrow\">RandomForestClassifier</label><div class=\"sk-toggleable__content\"><pre>RandomForestClassifier(max_features=0.5, min_samples_split=10, n_estimators=250,\n",
       "                       oob_score=True, random_state=0)</pre></div></div></div></div></div>"
      ],
      "text/plain": [
       "RandomForestClassifier(max_features=0.5, min_samples_split=10, n_estimators=250,\n",
       "                       oob_score=True, random_state=0)"
      ]
     },
     "execution_count": 10,
     "metadata": {},
     "output_type": "execute_result"
    }
   ],
   "source": [
    "best_rf = RandomForestClassifier(oob_score=True, random_state=0, **best_params)\n",
    "best_rf.fit(X_train, y_train)"
   ]
  },
  {
   "cell_type": "code",
   "execution_count": 11,
   "metadata": {},
   "outputs": [
    {
     "data": {
      "text/plain": [
       "37"
      ]
     },
     "execution_count": 11,
     "metadata": {},
     "output_type": "execute_result"
    }
   ],
   "source": [
    "y_train_pred = best_rf.predict(X_train)\n",
    "y_val_pred = best_rf.predict(X_val)\n",
    "y_test_pred = best_rf.predict(X_test)\n",
    "best_rf = open('part_d_best_rf.txt', 'w')\n",
    "best_rf.write(f\"Best parameters: {best_params}\\n\")\n",
    "best_rf.write(f\"Training accuracy: {accuracy_score(y_train, y_train_pred)}\\n\")\n",
    "best_rf.write(f\"Validation accuracy: {accuracy_score(y_val, y_val_pred)}\\n\")\n",
    "best_rf.write(f\"Testing accuracy: {accuracy_score(y_test, y_test_pred)}\\n\")"
   ]
  },
  {
   "cell_type": "code",
   "execution_count": 13,
   "metadata": {},
   "outputs": [],
   "source": [
    "best_rf.close()"
   ]
  }
 ],
 "metadata": {
  "kernelspec": {
   "display_name": "Python 3",
   "language": "python",
   "name": "python3"
  },
  "language_info": {
   "codemirror_mode": {
    "name": "ipython",
    "version": 3
   },
   "file_extension": ".py",
   "mimetype": "text/x-python",
   "name": "python",
   "nbconvert_exporter": "python",
   "pygments_lexer": "ipython3",
   "version": "3.11.5"
  }
 },
 "nbformat": 4,
 "nbformat_minor": 2
}
